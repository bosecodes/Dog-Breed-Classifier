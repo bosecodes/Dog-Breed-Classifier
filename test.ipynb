{
 "cells": [
  {
   "cell_type": "markdown",
   "id": "f7252ef3",
   "metadata": {},
   "source": [
    "## Import all necessary libraries "
   ]
  },
  {
   "cell_type": "code",
   "execution_count": 1,
   "id": "f48e7b4b",
   "metadata": {},
   "outputs": [],
   "source": [
    "import os \n",
    "import numpy as np \n",
    "import pandas as pd \n",
    "import cv2 \n",
    "from glob import glob \n",
    "from tqdm import tqdm \n",
    "import tensorflow as tf \n",
    "from sklearn.model_selection import train_test_split"
   ]
  },
  {
   "cell_type": "markdown",
   "id": "13ca0b31",
   "metadata": {},
   "source": [
    "## Image Preprocessing"
   ]
  },
  {
   "cell_type": "code",
   "execution_count": 8,
   "id": "c3ce264c",
   "metadata": {},
   "outputs": [],
   "source": [
    "def read_image(path, size):\n",
    "    image = cv2.imread(path, cv2.IMREAD_COLOR)\n",
    "    image = cv2.resize(image, (size, size))\n",
    "    image = image / 255.0 \n",
    "    image = image.astype(np.float32)\n",
    "    return image "
   ]
  },
  {
   "cell_type": "code",
   "execution_count": 2,
   "id": "998f72ba",
   "metadata": {},
   "outputs": [],
   "source": [
    "path = './'\n",
    "train_path = os.path.join(path, 'train/*')\n",
    "test_path = os.path.join(path, 'test/*')\n",
    "labels_path = os.path.join(path, 'labels.csv')"
   ]
  },
  {
   "cell_type": "code",
   "execution_count": 3,
   "id": "99c0752d",
   "metadata": {},
   "outputs": [
    {
     "data": {
      "text/html": [
       "<div>\n",
       "<style scoped>\n",
       "    .dataframe tbody tr th:only-of-type {\n",
       "        vertical-align: middle;\n",
       "    }\n",
       "\n",
       "    .dataframe tbody tr th {\n",
       "        vertical-align: top;\n",
       "    }\n",
       "\n",
       "    .dataframe thead th {\n",
       "        text-align: right;\n",
       "    }\n",
       "</style>\n",
       "<table border=\"1\" class=\"dataframe\">\n",
       "  <thead>\n",
       "    <tr style=\"text-align: right;\">\n",
       "      <th></th>\n",
       "      <th>id</th>\n",
       "      <th>breed</th>\n",
       "    </tr>\n",
       "  </thead>\n",
       "  <tbody>\n",
       "    <tr>\n",
       "      <th>0</th>\n",
       "      <td>000bec180eb18c7604dcecc8fe0dba07</td>\n",
       "      <td>boston_bull</td>\n",
       "    </tr>\n",
       "    <tr>\n",
       "      <th>1</th>\n",
       "      <td>001513dfcb2ffafc82cccf4d8bbaba97</td>\n",
       "      <td>dingo</td>\n",
       "    </tr>\n",
       "    <tr>\n",
       "      <th>2</th>\n",
       "      <td>001cdf01b096e06d78e9e5112d419397</td>\n",
       "      <td>pekinese</td>\n",
       "    </tr>\n",
       "    <tr>\n",
       "      <th>3</th>\n",
       "      <td>00214f311d5d2247d5dfe4fe24b2303d</td>\n",
       "      <td>bluetick</td>\n",
       "    </tr>\n",
       "    <tr>\n",
       "      <th>4</th>\n",
       "      <td>0021f9ceb3235effd7fcde7f7538ed62</td>\n",
       "      <td>golden_retriever</td>\n",
       "    </tr>\n",
       "  </tbody>\n",
       "</table>\n",
       "</div>"
      ],
      "text/plain": [
       "                                 id             breed\n",
       "0  000bec180eb18c7604dcecc8fe0dba07       boston_bull\n",
       "1  001513dfcb2ffafc82cccf4d8bbaba97             dingo\n",
       "2  001cdf01b096e06d78e9e5112d419397          pekinese\n",
       "3  00214f311d5d2247d5dfe4fe24b2303d          bluetick\n",
       "4  0021f9ceb3235effd7fcde7f7538ed62  golden_retriever"
      ]
     },
     "execution_count": 3,
     "metadata": {},
     "output_type": "execute_result"
    }
   ],
   "source": [
    "# Checking the csv file as a Pandas Dataframe\n",
    "labels_df = pd.read_csv(labels_path)\n",
    "labels_df.head()"
   ]
  },
  {
   "cell_type": "code",
   "execution_count": 4,
   "id": "3b7ab8f7",
   "metadata": {},
   "outputs": [
    {
     "name": "stdout",
     "output_type": "stream",
     "text": [
      "['boston_bull' 'dingo' 'pekinese' 'bluetick' 'golden_retriever'\n",
      " 'bedlington_terrier' 'borzoi' 'basenji' 'scottish_deerhound'\n",
      " 'shetland_sheepdog' 'walker_hound' 'maltese_dog' 'norfolk_terrier'\n",
      " 'african_hunting_dog' 'wire-haired_fox_terrier' 'redbone'\n",
      " 'lakeland_terrier' 'boxer' 'doberman' 'otterhound' 'standard_schnauzer'\n",
      " 'irish_water_spaniel' 'black-and-tan_coonhound' 'cairn' 'affenpinscher'\n",
      " 'labrador_retriever' 'ibizan_hound' 'english_setter' 'weimaraner'\n",
      " 'giant_schnauzer' 'groenendael' 'dhole' 'toy_poodle' 'border_terrier'\n",
      " 'tibetan_terrier' 'norwegian_elkhound' 'shih-tzu' 'irish_terrier'\n",
      " 'kuvasz' 'german_shepherd' 'greater_swiss_mountain_dog' 'basset'\n",
      " 'australian_terrier' 'schipperke' 'rhodesian_ridgeback' 'irish_setter'\n",
      " 'appenzeller' 'bloodhound' 'samoyed' 'miniature_schnauzer'\n",
      " 'brittany_spaniel' 'kelpie' 'papillon' 'border_collie' 'entlebucher'\n",
      " 'collie' 'malamute' 'welsh_springer_spaniel' 'chihuahua' 'saluki' 'pug'\n",
      " 'malinois' 'komondor' 'airedale' 'leonberg' 'mexican_hairless'\n",
      " 'bull_mastiff' 'bernese_mountain_dog' 'american_staffordshire_terrier'\n",
      " 'lhasa' 'cardigan' 'italian_greyhound' 'clumber' 'scotch_terrier'\n",
      " 'afghan_hound' 'old_english_sheepdog' 'saint_bernard'\n",
      " 'miniature_pinscher' 'eskimo_dog' 'irish_wolfhound' 'brabancon_griffon'\n",
      " 'toy_terrier' 'chow' 'flat-coated_retriever' 'norwich_terrier'\n",
      " 'soft-coated_wheaten_terrier' 'staffordshire_bullterrier'\n",
      " 'english_foxhound' 'gordon_setter' 'siberian_husky' 'newfoundland'\n",
      " 'briard' 'chesapeake_bay_retriever' 'dandie_dinmont' 'great_pyrenees'\n",
      " 'beagle' 'vizsla' 'west_highland_white_terrier' 'kerry_blue_terrier'\n",
      " 'whippet' 'sealyham_terrier' 'standard_poodle' 'keeshond'\n",
      " 'japanese_spaniel' 'miniature_poodle' 'pomeranian'\n",
      " 'curly-coated_retriever' 'yorkshire_terrier' 'pembroke' 'great_dane'\n",
      " 'blenheim_spaniel' 'silky_terrier' 'sussex_spaniel'\n",
      " 'german_short-haired_pointer' 'french_bulldog' 'bouvier_des_flandres'\n",
      " 'tibetan_mastiff' 'english_springer' 'cocker_spaniel' 'rottweiler']\n"
     ]
    }
   ],
   "source": [
    "# Exploring breeds column\n",
    "breed = labels_df[\"breed\"].unique() # stores list of unique breeds\n",
    "print(breed)"
   ]
  },
  {
   "cell_type": "code",
   "execution_count": 10,
   "id": "cdf80dca",
   "metadata": {},
   "outputs": [],
   "source": [
    "breed2id = {name: i for i, name in enumerate(breed)}\n",
    "id2breed = {i: name for i, name in enumerate(breed)}"
   ]
  },
  {
   "cell_type": "code",
   "execution_count": 11,
   "id": "4555f9aa",
   "metadata": {},
   "outputs": [],
   "source": [
    "# So, it's a multiclassification problem \n",
    "# We use enumerate() over a dictionary that transcribes \n",
    "# each breed it's breedid \n",
    "labels = []\n",
    "breed2id = {name: i for i , name in enumerate(breed)}\n",
    "\n",
    "ids = glob(train_path) # used to fetch addresses of all images \n",
    "# inside the train folder \n",
    "# Preprocessing the training data \n",
    "for image_id in ids:\n",
    "    image_id = image_id.split('\\\\')[-1].split('.')[0]\n",
    "    # print(image_id) <-- all image ids \n",
    "    breed_name = list(labels_df[labels_df.id == image_id]['breed'])[0]\n",
    "    #print(image_id, '\\t', breed_name)\n",
    "    breed_idx = breed2id[breed_name]\n",
    "    labels.append(breed_idx)\n",
    "\n",
    "ids = ids[:1000]\n",
    "labels = labels[:1000]"
   ]
  },
  {
   "cell_type": "markdown",
   "id": "0d19aab7",
   "metadata": {},
   "source": [
    "## Splitting the dataset"
   ]
  },
  {
   "cell_type": "code",
   "execution_count": 12,
   "id": "68ad7d3a",
   "metadata": {},
   "outputs": [],
   "source": [
    "train_x, valid_x = train_test_split(ids, test_size = 0.2, random_state = 42)\n",
    "train_y, valid_y = train_test_split(labels, test_size = 0.2, random_state = 42)"
   ]
  },
  {
   "cell_type": "markdown",
   "id": "2c58a177",
   "metadata": {},
   "source": [
    "## Model"
   ]
  },
  {
   "cell_type": "code",
   "execution_count": 13,
   "id": "481a2037",
   "metadata": {},
   "outputs": [],
   "source": [
    "model = tf.keras.models.load_model('model.h5')"
   ]
  },
  {
   "cell_type": "code",
   "execution_count": 24,
   "id": "935fa7fa",
   "metadata": {},
   "outputs": [
    {
     "name": "stderr",
     "output_type": "stream",
     "text": [
      "10it [00:00, 14.97it/s]\n"
     ]
    }
   ],
   "source": [
    "for i, path in tqdm(enumerate(valid_x[:10])):\n",
    "    image = read_image(path, 224)\n",
    "    image = np.expand_dims(image, axis = 0)\n",
    "    pred = model.predict(image)[0]\n",
    "    # pred --> will return a vector of size 120\n",
    "    # here label_idx is the maximum probability \n",
    "    # i.e. the maximum value to consider \n",
    "    # index for the label \n",
    "    label_idx = np.argmax(pred)\n",
    "    breed_name = id2breed[label_idx]\n",
    "    \n",
    "    ori_breed = id2breed[valid_y[i]] #original breed \n",
    "    ori_image = cv2.imread(path, cv2.IMREAD_COLOR)\n",
    "    \n",
    "    # LET'S write the original breed name \n",
    "    # and the predicted breed name \n",
    "    ori_image = cv2.putText(ori_image, breed_name, (0,10), cv2.FONT_HERSHEY_SIMPLEX, 0.5, (255, 0, 0), 1)\n",
    "    ori_image = cv2.putText(ori_image, breed_name, (200, 330), cv2.FONT_HERSHEY_SIMPLEX, 0.5, (255, 255, 255), 1)\n",
    "    \n",
    "    cv2.imwrite(f'save/valid_{i}.png', ori_image)"
   ]
  },
  {
   "cell_type": "code",
   "execution_count": null,
   "id": "f7e068ef",
   "metadata": {},
   "outputs": [],
   "source": []
  },
  {
   "cell_type": "code",
   "execution_count": null,
   "id": "8f3b3b00",
   "metadata": {},
   "outputs": [],
   "source": []
  },
  {
   "cell_type": "code",
   "execution_count": null,
   "id": "24b7fce2",
   "metadata": {},
   "outputs": [],
   "source": []
  },
  {
   "cell_type": "code",
   "execution_count": null,
   "id": "826e8fc9",
   "metadata": {},
   "outputs": [],
   "source": []
  },
  {
   "cell_type": "code",
   "execution_count": null,
   "id": "8264bf1d",
   "metadata": {},
   "outputs": [],
   "source": []
  },
  {
   "cell_type": "code",
   "execution_count": null,
   "id": "4b814f08",
   "metadata": {},
   "outputs": [],
   "source": []
  },
  {
   "cell_type": "code",
   "execution_count": null,
   "id": "467d2e55",
   "metadata": {},
   "outputs": [],
   "source": []
  },
  {
   "cell_type": "code",
   "execution_count": null,
   "id": "ded2ae0c",
   "metadata": {},
   "outputs": [],
   "source": []
  },
  {
   "cell_type": "code",
   "execution_count": null,
   "id": "6d467809",
   "metadata": {},
   "outputs": [],
   "source": []
  },
  {
   "cell_type": "code",
   "execution_count": null,
   "id": "56411f55",
   "metadata": {},
   "outputs": [],
   "source": []
  },
  {
   "cell_type": "code",
   "execution_count": null,
   "id": "39ddc161",
   "metadata": {},
   "outputs": [],
   "source": []
  },
  {
   "cell_type": "code",
   "execution_count": null,
   "id": "f340b2bc",
   "metadata": {},
   "outputs": [],
   "source": []
  },
  {
   "cell_type": "code",
   "execution_count": null,
   "id": "0a800f84",
   "metadata": {},
   "outputs": [],
   "source": []
  },
  {
   "cell_type": "code",
   "execution_count": null,
   "id": "1e614553",
   "metadata": {},
   "outputs": [],
   "source": []
  },
  {
   "cell_type": "code",
   "execution_count": null,
   "id": "3ca66368",
   "metadata": {},
   "outputs": [],
   "source": []
  },
  {
   "cell_type": "code",
   "execution_count": null,
   "id": "045abcf3",
   "metadata": {},
   "outputs": [],
   "source": []
  },
  {
   "cell_type": "code",
   "execution_count": null,
   "id": "3061837d",
   "metadata": {},
   "outputs": [],
   "source": []
  },
  {
   "cell_type": "code",
   "execution_count": null,
   "id": "ed1883ab",
   "metadata": {},
   "outputs": [],
   "source": []
  },
  {
   "cell_type": "code",
   "execution_count": null,
   "id": "45c6c8e8",
   "metadata": {},
   "outputs": [],
   "source": []
  },
  {
   "cell_type": "code",
   "execution_count": null,
   "id": "4210ad24",
   "metadata": {},
   "outputs": [],
   "source": []
  },
  {
   "cell_type": "code",
   "execution_count": null,
   "id": "b248fb6e",
   "metadata": {},
   "outputs": [],
   "source": []
  },
  {
   "cell_type": "code",
   "execution_count": null,
   "id": "42d44019",
   "metadata": {},
   "outputs": [],
   "source": []
  },
  {
   "cell_type": "code",
   "execution_count": null,
   "id": "4671c11f",
   "metadata": {},
   "outputs": [],
   "source": []
  }
 ],
 "metadata": {
  "kernelspec": {
   "display_name": "Python 3",
   "language": "python",
   "name": "python3"
  },
  "language_info": {
   "codemirror_mode": {
    "name": "ipython",
    "version": 3
   },
   "file_extension": ".py",
   "mimetype": "text/x-python",
   "name": "python",
   "nbconvert_exporter": "python",
   "pygments_lexer": "ipython3",
   "version": "3.8.5"
  }
 },
 "nbformat": 4,
 "nbformat_minor": 5
}
